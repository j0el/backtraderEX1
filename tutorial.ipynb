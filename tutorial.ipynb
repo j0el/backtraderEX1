{
 "cells": [
  {
   "cell_type": "code",
   "execution_count": 13,
   "source": [
    "import requests\n",
    "from credentials import *\n",
    "import numpy as np\n",
    "import pandas as pd\n",
    "import datetime\n",
    "import requests"
   ],
   "outputs": [],
   "metadata": {}
  },
  {
   "cell_type": "markdown",
   "source": [
    "# How to configure Backtrader setup"
   ],
   "metadata": {}
  },
  {
   "cell_type": "code",
   "execution_count": 2,
   "source": [
    "import backtrader as bt\n",
    "\n",
    "class MyStrategy(bt.Strategy):\n",
    "    def next(self):\n",
    "        pass # Do something\n",
    "\n",
    "# Instantiate Cerebro engine\n",
    "cerebro = bt.Cerebro()\n",
    "\n",
    "# Add strategy to Cerebro\n",
    "cerebro.addstrategy(MyStrategy)\n",
    "\n",
    "# Run Cerebro Engine\n",
    "cerebro.run()"
   ],
   "outputs": [
    {
     "output_type": "execute_result",
     "data": {
      "text/plain": [
       "[]"
      ]
     },
     "metadata": {},
     "execution_count": 2
    }
   ],
   "metadata": {}
  },
  {
   "cell_type": "markdown",
   "source": [
    "# Retrieve data and import into Backtrader"
   ],
   "metadata": {}
  },
  {
   "cell_type": "code",
   "execution_count": 12,
   "source": [
    "url = \"https://apidojo-yahoo-finance-v1.p.rapidapi.com/stock/v3/get-historical-data\"\n",
    "\n",
    "querystring = {\"symbol\":\"MSFT\",\"region\":\"US\"}\n",
    "\n",
    "headers = {\n",
    "    'x-rapidapi-key': x_rapidapi_key,\n",
    "    'x-rapidapi-host': x_rapidapi_host\n",
    "    }\n",
    "\n",
    "data = requests.request(\"GET\", url, headers=headers, params=querystring).json()\n",
    "data\n",
    "\n",
    "\n",
    "# Create dataframe\n",
    "dataframe = pd.DataFrame(data['prices'])\n",
    "\n",
    "# Convert epoch since period to proper datetime format\n",
    "dataframe['date'] = pd.to_datetime(dataframe['date'], unit='s')\n",
    "dataframe['date'] = [dataframe['date'][i].date() for i in range(len(dataframe['date']))]\n",
    "dataframe = dataframe.iloc[:, 0:7]\n",
    "\n",
    "# Save to CSV\n",
    "dataframe.to_csv('./data/MSFT.csv')\n",
    "\n",
    "# Import data into Backtrader\n",
    "data = bt.feeds.YahooFinanceCSVData(dataname='./data/MSFT.csv')"
   ],
   "outputs": [],
   "metadata": {}
  },
  {
   "cell_type": "markdown",
   "source": [
    "# How to print or log data using strategy class in Backtrader"
   ],
   "metadata": {}
  },
  {
   "cell_type": "code",
   "execution_count": 10,
   "source": [],
   "outputs": [],
   "metadata": {}
  },
  {
   "cell_type": "code",
   "execution_count": 11,
   "source": [],
   "outputs": [
    {
     "output_type": "execute_result",
     "data": {
      "text/plain": [
       "<backtrader.feeds.yahoo.YahooFinanceCSVData at 0x7f8dae0effd0>"
      ]
     },
     "metadata": {},
     "execution_count": 11
    }
   ],
   "metadata": {}
  },
  {
   "cell_type": "code",
   "execution_count": null,
   "source": [],
   "outputs": [],
   "metadata": {}
  },
  {
   "cell_type": "code",
   "execution_count": null,
   "source": [],
   "outputs": [],
   "metadata": {}
  },
  {
   "cell_type": "code",
   "execution_count": null,
   "source": [],
   "outputs": [],
   "metadata": {}
  },
  {
   "cell_type": "code",
   "execution_count": null,
   "source": [],
   "outputs": [],
   "metadata": {}
  },
  {
   "cell_type": "code",
   "execution_count": null,
   "source": [],
   "outputs": [],
   "metadata": {}
  },
  {
   "cell_type": "code",
   "execution_count": null,
   "source": [],
   "outputs": [],
   "metadata": {}
  },
  {
   "cell_type": "code",
   "execution_count": null,
   "source": [],
   "outputs": [],
   "metadata": {}
  },
  {
   "cell_type": "code",
   "execution_count": null,
   "source": [],
   "outputs": [],
   "metadata": {}
  },
  {
   "cell_type": "code",
   "execution_count": null,
   "source": [],
   "outputs": [],
   "metadata": {}
  },
  {
   "cell_type": "code",
   "execution_count": null,
   "source": [],
   "outputs": [],
   "metadata": {}
  },
  {
   "cell_type": "code",
   "execution_count": null,
   "source": [],
   "outputs": [],
   "metadata": {}
  },
  {
   "cell_type": "code",
   "execution_count": null,
   "source": [],
   "outputs": [],
   "metadata": {}
  }
 ],
 "metadata": {
  "orig_nbformat": 4,
  "language_info": {
   "name": "python",
   "version": "3.8.3",
   "mimetype": "text/x-python",
   "codemirror_mode": {
    "name": "ipython",
    "version": 3
   },
   "pygments_lexer": "ipython3",
   "nbconvert_exporter": "python",
   "file_extension": ".py"
  },
  "kernelspec": {
   "name": "python3",
   "display_name": "Python 3.8.3 64-bit ('base': conda)"
  },
  "interpreter": {
   "hash": "dca0ade3e726a953b501b15e8e990130d2b7799f14cfd9f4271676035ebe5511"
  }
 },
 "nbformat": 4,
 "nbformat_minor": 2
}